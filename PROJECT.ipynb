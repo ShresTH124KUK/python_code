{
  "nbformat": 4,
  "nbformat_minor": 0,
  "metadata": {
    "colab": {
      "provenance": [],
      "authorship_tag": "ABX9TyPkeoIbG6S68wtT4QKzHvpv",
      "include_colab_link": true
    },
    "kernelspec": {
      "name": "python3",
      "display_name": "Python 3"
    },
    "language_info": {
      "name": "python"
    }
  },
  "cells": [
    {
      "cell_type": "markdown",
      "metadata": {
        "id": "view-in-github",
        "colab_type": "text"
      },
      "source": [
        "<a href=\"https://colab.research.google.com/github/ShresTH124KUK/python_code/blob/main/PROJECT.ipynb\" target=\"_parent\"><img src=\"https://colab.research.google.com/assets/colab-badge.svg\" alt=\"Open In Colab\"/></a>"
      ]
    },
    {
      "cell_type": "code",
      "source": [
        "import random\n",
        "a=input(\"Enter your choice(rock paper scissors):\")\n",
        "b=[\"rock\", \"paper\", \"scissors\"]\n",
        "c=random.choice(b)\n",
        "print(f\"\\nyou chose\"{a},\"computer chose\"{c}.\\n)\n",
        "if a == c:\n",
        "    print(f\"Both players selected {a}. It's a tie!\")\n",
        "elif a == \"rock\":\n",
        "    if c == \"scissors\":\n",
        "        print(\"Rock smashes scissors! You win!\")\n",
        "    else:\n",
        "        print(\"Paper covers rock! You lose.\")\n",
        "elif a == \"paper\":\n",
        "    if c == \"rock\":\n",
        "        print(\"Paper covers rock! You win!\")\n",
        "    else:\n",
        "        print(\"Scissors cuts paper! You lose.\")\n",
        "elif a == \"scissors\":\n",
        "    if c == \"paper\":\n",
        "        print(\"Scissors cuts paper! You win!\")\n",
        "    else:\n",
        "        print(\"Rock smashes scissors! You lose.\")"
      ],
      "metadata": {
        "id": "Ibf8VBy9M__U"
      },
      "execution_count": null,
      "outputs": []
    }
  ]
}