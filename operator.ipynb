{
  "nbformat": 4,
  "nbformat_minor": 0,
  "metadata": {
    "colab": {
      "provenance": [],
      "authorship_tag": "ABX9TyM22BHrm6Is/yAHIsrDXKBn",
      "include_colab_link": true
    },
    "kernelspec": {
      "name": "python3",
      "display_name": "Python 3"
    },
    "language_info": {
      "name": "python"
    }
  },
  "cells": [
    {
      "cell_type": "markdown",
      "metadata": {
        "id": "view-in-github",
        "colab_type": "text"
      },
      "source": [
        "<a href=\"https://colab.research.google.com/github/ShresTH124KUK/python_code/blob/main/operator.ipynb\" target=\"_parent\"><img src=\"https://colab.research.google.com/assets/colab-badge.svg\" alt=\"Open In Colab\"/></a>"
      ]
    },
    {
      "cell_type": "code",
      "execution_count": null,
      "metadata": {
        "id": "9sPn5Mwj8yKB"
      },
      "outputs": [],
      "source": []
    },
    {
      "cell_type": "code",
      "source": [
        "temp = 30\n",
        "if ( temp <= 40 and temp >= 20):\n",
        "  print (\"it is very hot\")\n",
        "  print (\"take much fluids\")\n",
        "elif ( temp <=30 or temp >= 20):\n",
        "    print(\"it is moderate today\")\n",
        "elif (temp)"
      ],
      "metadata": {
        "id": "Xrucabe488au"
      },
      "execution_count": null,
      "outputs": []
    }
  ]
}